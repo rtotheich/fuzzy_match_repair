{
 "cells": [
  {
   "cell_type": "code",
   "execution_count": 9,
   "id": "d0ed052e-93b8-4f91-8109-99a137a24b38",
   "metadata": {},
   "outputs": [
    {
     "data": {
      "text/plain": [
       "(123351059, 163479400)"
      ]
     },
     "execution_count": 9,
     "metadata": {},
     "output_type": "execute_result"
    }
   ],
   "source": [
    "import gensim\n",
    "from gensim.models import Word2Vec \n",
    "from gensim.models import KeyedVectors\n",
    "import pandas as pd\n",
    "from nltk.tokenize import RegexpTokenizer\n",
    "\n",
    "with open('./test', 'r') as fd:\n",
    "    sentences = fd.readlines()\n",
    "\n",
    "# tokenize\n",
    "tokenizer = RegexpTokenizer(r'\\w+')\n",
    "sentences_tokenized = [w.lower() for w in sentences]\n",
    "sentences_tokenized = [tokenizer.tokenize(i) for i in sentences_tokenized]\n",
    "\n",
    "model = Word2Vec(sentences=sentences_tokenized, vector_size=100, window=3, min_count=1, workers=4, sg=1)\n",
    "model.build_vocab(corpus_iterable=sentences_tokenized, progress_per=10000)\n",
    "model.train(sentences_tokenized, total_examples=len(sentences_tokenized), epochs=100, report_delay=1)"
   ]
  },
  {
   "cell_type": "code",
   "execution_count": 10,
   "id": "a4394767-7644-4f95-915c-5d2fdba66fd0",
   "metadata": {},
   "outputs": [
    {
     "name": "stdout",
     "output_type": "stream",
     "text": [
      "[('shift2rail', 0.7217826843261719), ('joint', 0.7044193148612976), ('edctp3', 0.6882998943328857), ('unenforceable', 0.6750001311302185), ('undertakings', 0.650852382183075), ('fch', 0.6435291171073914), ('aiccm', 0.639954149723053), ('controllership', 0.6160103678703308), ('alternation', 0.5803664326667786), ('ecsel', 0.5752387046813965)]\n"
     ]
    }
   ],
   "source": [
    "# Original sentence is \"Sohra promotes Belarusian industrial products in countries in Africa and the Middle East.\"\n",
    "print(model.wv.most_similar('undertaking', topn=10))"
   ]
  },
  {
   "cell_type": "code",
   "execution_count": 21,
   "id": "475b4cbf-8a75-4b65-b448-ba96eaf0e8ad",
   "metadata": {},
   "outputs": [
    {
     "name": "stdout",
     "output_type": "stream",
     "text": [
      "[('joint', 0.06639594), ('undertaking', 0.008894795), ('committee', 0.004552006), ('organise', 0.0037586277), ('advise', 0.003582484), ('edctp3', 0.002940187), ('assisted', 0.0025475817), ('controllers', 0.0022974396), ('composed', 0.0022818237), ('launched', 0.0021781435)]\n"
     ]
    }
   ],
   "source": [
    "# TM is:\n",
    "# \"In addition to the tasks set out in Article 5, the Clean\n",
    "# Hydrogen Joint Undertaking shall carry out the following tasks:\n",
    "# \n",
    "# New segment is:\n",
    "# In addition to the tasks set out in Article 5, the Circular\n",
    "# Bio-based Europe Joint Undertaking shall carry out the\n",
    "# following tasks:\n",
    "# \n",
    "# Holes are:\n",
    "# {Circular,Bio-based,Europe} indexes: 11, 12, 13\n",
    "\n",
    "sentence = \"joint shall\"\n",
    "print(model.predict_output_word(sentence.split(), topn=10))"
   ]
  },
  {
   "cell_type": "code",
   "execution_count": null,
   "id": "dd91ff19-9974-423e-8d11-707cebd4f538",
   "metadata": {},
   "outputs": [],
   "source": []
  }
 ],
 "metadata": {
  "kernelspec": {
   "display_name": "Python 3 (ipykernel)",
   "language": "python",
   "name": "python3"
  },
  "language_info": {
   "codemirror_mode": {
    "name": "ipython",
    "version": 3
   },
   "file_extension": ".py",
   "mimetype": "text/x-python",
   "name": "python",
   "nbconvert_exporter": "python",
   "pygments_lexer": "ipython3",
   "version": "3.9.18"
  }
 },
 "nbformat": 4,
 "nbformat_minor": 5
}
