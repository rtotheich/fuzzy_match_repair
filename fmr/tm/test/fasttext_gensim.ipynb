{
 "cells": [
  {
   "cell_type": "code",
   "execution_count": 1,
   "id": "6ec74213-3715-461a-9daa-41216e3ac8aa",
   "metadata": {},
   "outputs": [
    {
     "name": "stdout",
     "output_type": "stream",
     "text": [
      "['human', 'interface', 'computer']\n",
      "9\n"
     ]
    },
    {
     "data": {
      "text/plain": [
       "(36, 290)"
      ]
     },
     "execution_count": 1,
     "metadata": {},
     "output_type": "execute_result"
    }
   ],
   "source": [
    "from gensim.models import FastText\n",
    "\n",
    "from gensim.test.utils import common_texts\n",
    "\n",
    "print(common_texts[0])\n",
    "['human', 'interface', 'computer']\n",
    "\n",
    "print(len(common_texts))\n",
    "\n",
    "model = FastText(vector_size=4, window=3, min_count=1)  # instantiate\n",
    "\n",
    "model.build_vocab(corpus_iterable=common_texts)\n",
    "\n",
    "model.train(corpus_iterable=common_texts, total_examples=len(common_texts), epochs=10)"
   ]
  },
  {
   "cell_type": "code",
   "execution_count": 6,
   "id": "cf8f7efd-dbff-47ea-9c76-bff32da8542d",
   "metadata": {},
   "outputs": [
    {
     "data": {
      "text/plain": [
       "[('computer', 0.08333483),\n",
       " ('user', 0.08333472),\n",
       " ('time', 0.08333445),\n",
       " ('system', 0.08333445),\n",
       " ('graph', 0.08333445),\n",
       " ('interface', 0.083334036),\n",
       " ('human', 0.083334036),\n",
       " ('response', 0.08333332),\n",
       " ('eps', 0.08333256),\n",
       " ('minors', 0.08333144)]"
      ]
     },
     "execution_count": 6,
     "metadata": {},
     "output_type": "execute_result"
    }
   ],
   "source": [
    "model.predict_output_word(['computer', 'interface'], topn=10)"
   ]
  },
  {
   "cell_type": "code",
   "execution_count": null,
   "id": "93ec34f8-e746-403d-aa6e-deeca4adcc3e",
   "metadata": {},
   "outputs": [],
   "source": []
  }
 ],
 "metadata": {
  "kernelspec": {
   "display_name": "Python 3 (ipykernel)",
   "language": "python",
   "name": "python3"
  },
  "language_info": {
   "codemirror_mode": {
    "name": "ipython",
    "version": 3
   },
   "file_extension": ".py",
   "mimetype": "text/x-python",
   "name": "python",
   "nbconvert_exporter": "python",
   "pygments_lexer": "ipython3",
   "version": "3.9.18"
  }
 },
 "nbformat": 4,
 "nbformat_minor": 5
}
