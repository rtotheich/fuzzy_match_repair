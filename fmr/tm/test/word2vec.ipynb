{
 "cells": [
  {
   "cell_type": "code",
   "execution_count": 1,
   "id": "714428fc-a5e8-4eb7-ae7b-eec3e09500d6",
   "metadata": {},
   "outputs": [],
   "source": [
    "import gensim\n",
    "from gensim.models import Word2Vec \n",
    "from gensim.models import KeyedVectors\n",
    "import pandas as pd\n",
    "from nltk.tokenize import RegexpTokenizer"
   ]
  },
  {
   "cell_type": "code",
   "execution_count": 2,
   "id": "631e2af9-4a4b-48b4-8c6a-e561cbf1e0bd",
   "metadata": {},
   "outputs": [],
   "source": [
    "with open('./test', 'r') as fd:\n",
    "    sentences = fd.readlines()"
   ]
  },
  {
   "cell_type": "code",
   "execution_count": 3,
   "id": "941163d5-bea3-4690-a71c-80b22b1bad5c",
   "metadata": {},
   "outputs": [],
   "source": [
    "# tokenize\n",
    "tokenizer = RegexpTokenizer(r'\\w+')\n",
    "sentences_tokenized = [w.lower() for w in sentences]\n",
    "sentences_tokenized = [tokenizer.tokenize(i) for i in sentences_tokenized]"
   ]
  },
  {
   "cell_type": "code",
   "execution_count": 50,
   "id": "eb67f6f4-bb5f-427c-9436-f9c896a89ad3",
   "metadata": {},
   "outputs": [
    {
     "ename": "AttributeError",
     "evalue": "'Word2Vec' object has no attribute 'intersect_word2vec_format'",
     "output_type": "error",
     "traceback": [
      "\u001b[0;31m---------------------------------------------------------------------------\u001b[0m",
      "\u001b[0;31mAttributeError\u001b[0m                            Traceback (most recent call last)",
      "Cell \u001b[0;32mIn[50], line 4\u001b[0m\n\u001b[1;32m      2\u001b[0m model_2\u001b[38;5;241m.\u001b[39mbuild_vocab(sentences_tokenized)\n\u001b[1;32m      3\u001b[0m total_examples \u001b[38;5;241m=\u001b[39m model_2\u001b[38;5;241m.\u001b[39mcorpus_count\n\u001b[0;32m----> 4\u001b[0m \u001b[43mmodel_2\u001b[49m\u001b[38;5;241;43m.\u001b[39;49m\u001b[43mintersect_word2vec_format\u001b[49m(\u001b[38;5;124m\"\u001b[39m\u001b[38;5;124m/home/yue.r/gensim-data/glove-wiki-gigaword-100/glove-wiki-gigaword-100.txt\u001b[39m\u001b[38;5;124m\"\u001b[39m, binary\u001b[38;5;241m=\u001b[39m\u001b[38;5;28;01mFalse\u001b[39;00m, lockf\u001b[38;5;241m=\u001b[39m\u001b[38;5;241m1.0\u001b[39m)\n\u001b[1;32m      5\u001b[0m model_2\u001b[38;5;241m.\u001b[39mtrain(sentences_tokenized, total_examples\u001b[38;5;241m=\u001b[39mtotal_examples, epochs\u001b[38;5;241m=\u001b[39m\u001b[38;5;241m5\u001b[39m)\n",
      "\u001b[0;31mAttributeError\u001b[0m: 'Word2Vec' object has no attribute 'intersect_word2vec_format'"
     ]
    }
   ],
   "source": [
    "model_2 = Word2Vec(vector_size=300, min_count=1)\n",
    "model_2.build_vocab(sentences_tokenized)\n",
    "total_examples = model_2.corpus_count\n",
    "model_2.intersect_word2vec_format(\"/home/yue.r/gensim-data/glove-wiki-gigaword-100/glove-wiki-gigaword-100.txt\", binary=False, lockf=1.0)\n",
    "model_2.train(sentences_tokenized, total_examples=total_examples, epochs=5)"
   ]
  },
  {
   "cell_type": "code",
   "execution_count": 42,
   "id": "9a27d62a-f555-42e6-b1f4-1d3c989d87a1",
   "metadata": {},
   "outputs": [],
   "source": [
    "model = KeyedVectors.load_word2vec_format(\"/home/yue.r/gensim-data/glove-wiki-gigaword-100/glove-wiki-gigaword-100.txt\",\n",
    "                                         binary = False)"
   ]
  },
  {
   "cell_type": "code",
   "execution_count": 43,
   "id": "47d659c8-7713-494e-be2c-2bf548c2eb70",
   "metadata": {},
   "outputs": [
    {
     "data": {
      "text/plain": [
       "<gensim.models.keyedvectors.KeyedVectors at 0x2ac5eeff9970>"
      ]
     },
     "execution_count": 43,
     "metadata": {},
     "output_type": "execute_result"
    }
   ],
   "source": [
    "model"
   ]
  },
  {
   "cell_type": "code",
   "execution_count": 44,
   "id": "71eb1283-d0c7-4618-9e99-264b63e88eee",
   "metadata": {},
   "outputs": [
    {
     "data": {
      "text/plain": [
       "(3700578, 4904382)"
      ]
     },
     "execution_count": 44,
     "metadata": {},
     "output_type": "execute_result"
    }
   ],
   "source": [
    "model_2 = Word2Vec(vector_size=100, min_count=1, sg=1)\n",
    "model_2.build_vocab(sentences_tokenized)\n",
    "total_examples = model_2.corpus_count\n",
    "model_2.train(sentences_tokenized, total_examples=total_examples, epochs=3)"
   ]
  },
  {
   "cell_type": "code",
   "execution_count": 48,
   "id": "6c9e4cc3-70af-4af8-beb4-640da08009f8",
   "metadata": {},
   "outputs": [
    {
     "name": "stdout",
     "output_type": "stream",
     "text": [
      "[('point', 0.00037896907), ('replaced', 0.0003755958), ('there', 0.00037165618), ('it', 0.00030707495), ('if', 0.0002964465), ('which', 0.00027970242), ('where', 0.00027181196), ('person', 0.0002651382), ('limited', 0.00026056435), ('likely', 0.00025853835)]\n"
     ]
    }
   ],
   "source": [
    "print(model_2.predict_output_word(['This', 'is', 'a'], topn=10))"
   ]
  },
  {
   "cell_type": "code",
   "execution_count": 38,
   "id": "73f8f843-22fa-4178-a4f9-143116849b5f",
   "metadata": {},
   "outputs": [],
   "source": [
    "string = \"promotes Belarusian industrial products in countries in Africa and the Middle East\"\n",
    "seg1 = string.split()"
   ]
  },
  {
   "cell_type": "code",
   "execution_count": 39,
   "id": "d3363de3-a122-4831-baed-6384ed9ae567",
   "metadata": {},
   "outputs": [
    {
     "name": "stdout",
     "output_type": "stream",
     "text": [
      "[('originating', 0.0034913674), ('particular', 0.001572503), ('countries', 0.0005255884), ('certain', 0.00050563924), ('prc', 0.000492542), ('respect', 0.00048904243), ('concerned', 0.00048120556), ('addition', 0.00048056224), ('relation', 0.00047848263), ('listed', 0.0004129721)]\n",
      "['promotes', 'Belarusian', 'industrial', 'products', 'in', 'countries', 'in', 'Africa', 'and', 'the', 'Middle', 'East']\n"
     ]
    }
   ],
   "source": [
    "print(model_2.predict_output_word(seg1, topn=10))\n",
    "print(seg1)"
   ]
  },
  {
   "cell_type": "code",
   "execution_count": null,
   "id": "f1aea32f-e5ed-449b-89e3-1d993249296c",
   "metadata": {},
   "outputs": [],
   "source": []
  }
 ],
 "metadata": {
  "kernelspec": {
   "display_name": "Python 3 (ipykernel)",
   "language": "python",
   "name": "python3"
  },
  "language_info": {
   "codemirror_mode": {
    "name": "ipython",
    "version": 3
   },
   "file_extension": ".py",
   "mimetype": "text/x-python",
   "name": "python",
   "nbconvert_exporter": "python",
   "pygments_lexer": "ipython3",
   "version": "3.9.18"
  }
 },
 "nbformat": 4,
 "nbformat_minor": 5
}
