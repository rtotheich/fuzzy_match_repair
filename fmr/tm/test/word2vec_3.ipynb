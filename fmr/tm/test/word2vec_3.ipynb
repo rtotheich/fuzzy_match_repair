{
 "cells": [
  {
   "cell_type": "code",
   "execution_count": 3,
   "id": "2071ab37-1b93-4b98-b963-03c99babeb42",
   "metadata": {},
   "outputs": [],
   "source": [
    "import gensim\n",
    "import gensim.downloader\n",
    "\n",
    "# with open('./test', 'r') as fd:\n",
    "#     sentences = fd.readlines()\n",
    "\n",
    "# tokenize\n",
    "# tokenizer = RegexpTokenizer(r'\\w+')\n",
    "# sentences_tokenized = [w.lower() for w in sentences]\n",
    "# sentences_tokenized = [tokenizer.tokenize(i) for i in sentences_tokenized]\n",
    "\n",
    "glove_vectors = gensim.downloader.load('word2vec-google-news-300')\n",
    "\n",
    "# model = Word2Vec(sentences=sentences_tokenized, vector_size=100, window=3, min_count=1, workers=4, sg=1)\n",
    "# model.build_vocab(corpus_iterable=sentences_tokenized, progress_per=10000)\n",
    "# model.train(sentences_tokenized, total_examples=len(sentences_tokenized), epochs=100, report_delay=1)"
   ]
  },
  {
   "cell_type": "code",
   "execution_count": 8,
   "id": "2d0014ec-75dd-47fe-a8fc-6f5f01d64e5d",
   "metadata": {},
   "outputs": [
    {
     "name": "stdout",
     "output_type": "stream",
     "text": [
      "[('hi', 0.6548984050750732), ('goodbye', 0.6399056315422058), ('howdy', 0.6310956478118896), ('goodnight', 0.5920578241348267), ('greeting', 0.5855877995491028), ('Hello', 0.5842196345329285), (\"g'day\", 0.5754078030586243), ('See_ya', 0.5688871741294861), ('ya_doin', 0.5643119812011719), ('greet', 0.5636604428291321)]\n"
     ]
    }
   ],
   "source": [
    "print(glove_vectors.most_similar('hello'))"
   ]
  },
  {
   "cell_type": "code",
   "execution_count": 5,
   "id": "c76bf358-539d-4982-bd19-ff12446ec670",
   "metadata": {},
   "outputs": [
    {
     "ename": "AttributeError",
     "evalue": "'KeyedVectors' object has no attribute 'kv'",
     "output_type": "error",
     "traceback": [
      "\u001b[0;31m---------------------------------------------------------------------------\u001b[0m",
      "\u001b[0;31mAttributeError\u001b[0m                            Traceback (most recent call last)",
      "Cell \u001b[0;32mIn[5], line 1\u001b[0m\n\u001b[0;32m----> 1\u001b[0m \u001b[38;5;28mprint\u001b[39m(\u001b[43mglove_vectors\u001b[49m\u001b[38;5;241;43m.\u001b[39;49m\u001b[43mkv\u001b[49m\u001b[38;5;241m.\u001b[39mpredict_next_output([\u001b[38;5;124m'\u001b[39m\u001b[38;5;124mthis\u001b[39m\u001b[38;5;124m'\u001b[39m, \u001b[38;5;124m'\u001b[39m\u001b[38;5;124mis\u001b[39m\u001b[38;5;124m'\u001b[39m], topn\u001b[38;5;241m=\u001b[39m\u001b[38;5;241m10\u001b[39m))\n",
      "\u001b[0;31mAttributeError\u001b[0m: 'KeyedVectors' object has no attribute 'kv'"
     ]
    }
   ],
   "source": [
    "print(glove_vectors.kv.predict_next_output(['this', 'is'], topn=10))"
   ]
  },
  {
   "cell_type": "code",
   "execution_count": null,
   "id": "5d7e86f3-7751-4bc4-9c2a-69ab8a6da541",
   "metadata": {},
   "outputs": [],
   "source": []
  }
 ],
 "metadata": {
  "kernelspec": {
   "display_name": "Python 3 (ipykernel)",
   "language": "python",
   "name": "python3"
  },
  "language_info": {
   "codemirror_mode": {
    "name": "ipython",
    "version": 3
   },
   "file_extension": ".py",
   "mimetype": "text/x-python",
   "name": "python",
   "nbconvert_exporter": "python",
   "pygments_lexer": "ipython3",
   "version": "3.9.18"
  }
 },
 "nbformat": 4,
 "nbformat_minor": 5
}
