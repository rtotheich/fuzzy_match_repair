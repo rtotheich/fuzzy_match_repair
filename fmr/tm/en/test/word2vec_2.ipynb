{
 "cells": [
  {
   "cell_type": "code",
   "execution_count": 56,
   "id": "d0ed052e-93b8-4f91-8109-99a137a24b38",
   "metadata": {},
   "outputs": [],
   "source": [
    "import gensim\n",
    "import gensim.downloader as api\n",
    "from gensim.models import Word2Vec\n",
    "from gensim.models import KeyedVectors\n",
    "from gensim.test.utils import common_texts\n",
    "import pandas as pd\n",
    "from nltk.tokenize import RegexpTokenizer\n",
    "\n",
    "with open('./test', 'r') as fd:\n",
    "    sentences = fd.readlines()\n",
    "\n",
    "# tokenize\n",
    "tokenizer = RegexpTokenizer(r'\\w+')\n",
    "sentences_tokenized = [w.lower() for w in sentences]\n",
    "sentences_tokenized = [tokenizer.tokenize(i) for i in sentences_tokenized]\n",
    "\n",
    "# model = Word2Vec(sentences=sentences_tokenized, vector_size=100, window=3, min_count=1, workers=4, sg=1)\n",
    "# model.build_vocab(corpus_iterable=sentences_tokenized, progress_per=10000)\n",
    "\n",
    "model = Word2Vec(vector_size=300, window=2, min_count=1)\n",
    "model.build_vocab(sentences_tokenized)\n",
    "\n",
    "# model_2 = gensim.downloader.load('word2vec-google-news-300')\n",
    "pretrained_path = '/home/yue.r/gensim-data/word2vec-google-news-300-embeddings/word2vec-google-news-300.txt'\n",
    "# model_2.save_word2vec_format(pretrained_path)\n",
    "model_2 = KeyedVectors.load_word2vec_format(pretrained_path, binary=False)\n",
    "model.build_vocab([list(model_2.index_to_key)], update=True)\n",
    "model.wv.vectors_lockf = np.ones(len(model.wv))\n",
    "model.wv.intersect_word2vec_format(pretrained_path, binary=False, lockf=1.0)\n",
    "# model.build_vocab(sentences_tokenized, update=True)\n",
    "model.train(sentences_tokenized, total_examples=len(sentences_tokenized), epochs=3, report_delay=1)\n",
    "\n",
    "model.save(\"word2vec_en.model\")"
   ]
  },
  {
   "cell_type": "code",
   "execution_count": 57,
   "id": "a3e73ff8-9a3a-43af-8d00-5e75e333cca6",
   "metadata": {},
   "outputs": [],
   "source": [
    "import gensim\n",
    "from gensim.models import Word2Vec \n",
    "model = Word2Vec.load(\"word2vec_en.model\")"
   ]
  },
  {
   "cell_type": "code",
   "execution_count": 60,
   "id": "a4394767-7644-4f95-915c-5d2fdba66fd0",
   "metadata": {},
   "outputs": [
    {
     "name": "stdout",
     "output_type": "stream",
     "text": [
      "[('2226', 0.8404923677444458), ('992', 0.8319781422615051), ('1862', 0.7985498309135437), ('1624', 0.7886484861373901), ('1253', 0.78851318359375), ('1883', 0.7882025241851807), ('1011', 0.7880308032035828), ('937', 0.7796279191970825), ('1860', 0.7764666080474854), ('652', 0.7752911448478699)]\n"
     ]
    }
   ],
   "source": [
    "# Original sentence is \"Sohra promotes Belarusian industrial products in countries in Africa and the Middle East.\"\n",
    "print(model.wv.most_similar('regulation', topn=10))"
   ]
  },
  {
   "cell_type": "code",
   "execution_count": 73,
   "id": "475b4cbf-8a75-4b65-b448-ba96eaf0e8ad",
   "metadata": {},
   "outputs": [
    {
     "name": "stdout",
     "output_type": "stream",
     "text": [
      "[('date', 0.000461445), ('after', 0.00023125118), ('on', 0.0001884994), ('from', 5.9346585e-05), ('2023', 5.650052e-05), ('period', 5.4301105e-05), ('the', 5.3536136e-05), ('before', 5.246569e-05), ('day', 4.0394447e-05), ('expiry', 3.0995216e-05), ('at', 2.7980748e-05), ('disclosure', 2.7866881e-05), ('up', 2.5861287e-05), ('until', 2.3198525e-05), ('that', 2.2768674e-05), ('approval', 2.2120432e-05), ('2021', 2.1610264e-05), ('of', 1.5590362e-05), ('eusef', 1.4445969e-05), ('birth', 1.3775546e-05), ('prior', 1.3691041e-05), ('entry', 1.3482819e-05), ('days', 1.2563801e-05), ('which', 1.1869905e-05), ('test', 1.0382588e-05), ('time', 1.0289773e-05), ('first', 9.861224e-06), ('30', 9.463576e-06), ('years', 9.046012e-06), ('nominative', 9.005621e-06), ('conjunctival', 8.784076e-06), ('year', 8.6117725e-06), ('browning', 8.389503e-06), ('2020', 8.2517145e-06), ('tranquilizing', 8.00573e-06), ('months', 7.932148e-06), ('place', 7.778842e-06), ('inviolable', 7.691913e-06), ('2022', 7.6285173e-06), ('reference', 7.6140486e-06), ('during', 7.2684556e-06), ('tsup', 7.177416e-06), ('or', 7.068714e-06), ('grilled', 6.8910426e-06), ('beading', 6.870646e-06), ('initial', 6.8666395e-06), ('counterproductive', 6.833718e-06), ('if', 6.6069592e-06), ('due', 6.6022076e-06), ('cypriots', 6.4570013e-06)]\n"
     ]
    }
   ],
   "source": [
    "# TM is:\n",
    "# \"In addition to the tasks set out in Article 5, the Clean\n",
    "# Hydrogen Joint Undertaking shall carry out the following tasks:\n",
    "# \n",
    "# New segment is:\n",
    "# In addition to the tasks set out in Article 5, the Circular\n",
    "# Bio-based Europe Joint Undertaking shall carry out the\n",
    "# following tasks:\n",
    "# \n",
    "# Holes are:\n",
    "# {Circular,Bio-based,Europe} indexes: 11, 12, 13\n",
    "\n",
    "sentence = \"date birth\"\n",
    "print(model.predict_output_word(sentence.split(), topn=50))"
   ]
  },
  {
   "cell_type": "code",
   "execution_count": null,
   "id": "dd91ff19-9974-423e-8d11-707cebd4f538",
   "metadata": {},
   "outputs": [],
   "source": []
  }
 ],
 "metadata": {
  "kernelspec": {
   "display_name": "Python 3 (ipykernel)",
   "language": "python",
   "name": "python3"
  },
  "language_info": {
   "codemirror_mode": {
    "name": "ipython",
    "version": 3
   },
   "file_extension": ".py",
   "mimetype": "text/x-python",
   "name": "python",
   "nbconvert_exporter": "python",
   "pygments_lexer": "ipython3",
   "version": "3.9.18"
  }
 },
 "nbformat": 4,
 "nbformat_minor": 5
}
