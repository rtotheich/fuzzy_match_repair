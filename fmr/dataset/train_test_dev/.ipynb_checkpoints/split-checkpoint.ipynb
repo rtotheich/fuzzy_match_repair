{
 "cells": [
  {
   "cell_type": "code",
   "execution_count": 82,
   "id": "79719c34-0dcf-4dfb-9c2e-da23dc275f9a",
   "metadata": {},
   "outputs": [],
   "source": [
    "with open(\"../tokenized_lowercased/en.omega.tm\", \"r\") as fd:\n",
    "    source = [segment.strip('\\n') for segment in fd.readlines()]\n",
    "with open(\"../tokenized_lowercased/fr.omega.tm\", \"r\") as fd:\n",
    "    target = [segment.strip('\\n') for segment in fd.readlines()]"
   ]
  },
  {
   "cell_type": "code",
   "execution_count": 83,
   "id": "f152e856-255c-40b1-89f1-c636b19b4105",
   "metadata": {},
   "outputs": [
    {
     "name": "stdout",
     "output_type": "stream",
     "text": [
      "['agreement between the european union and the european atomic energy community , of the one part , and the united kingdom of great britain and northern ireland , of the other part', 'preamble', 'the european union and the european atomic energy community', 'the united kingdom of great britain and northern ireland ,', 'l _ 2021149en.01221201.rtf']\n",
      "['entre l ’ union européenne et la communauté européenne de l ’ énergie atomique , d ’ une part , et le royaume-uni de grande-bretagne et d ’ irlande du nord , d ’ autre part', 'préambule', 'l ’ union européenne et la communauté européenne de l ’ énergie atomique', 'le royaume-uni de grande-bretagne et d ’ irlande du nord ,', 'l _ 2021149fr.01221201.rtf']\n"
     ]
    }
   ],
   "source": [
    "print(source[:5])\n",
    "print(target[:5])"
   ]
  },
  {
   "cell_type": "code",
   "execution_count": 84,
   "id": "71bee591-564e-4edf-8089-83f1775116fa",
   "metadata": {},
   "outputs": [],
   "source": [
    "import pandas as pd\n",
    "\n",
    "pairs = {\"en\":source, \"fr\":target}\n",
    "dataset = pd.DataFrame(pairs)"
   ]
  },
  {
   "cell_type": "code",
   "execution_count": 85,
   "id": "10fb13f8-8c7e-4cd3-b086-cd266b79856b",
   "metadata": {},
   "outputs": [
    {
     "data": {
      "text/html": [
       "<div>\n",
       "<style scoped>\n",
       "    .dataframe tbody tr th:only-of-type {\n",
       "        vertical-align: middle;\n",
       "    }\n",
       "\n",
       "    .dataframe tbody tr th {\n",
       "        vertical-align: top;\n",
       "    }\n",
       "\n",
       "    .dataframe thead th {\n",
       "        text-align: right;\n",
       "    }\n",
       "</style>\n",
       "<table border=\"1\" class=\"dataframe\">\n",
       "  <thead>\n",
       "    <tr style=\"text-align: right;\">\n",
       "      <th></th>\n",
       "      <th>en</th>\n",
       "      <th>fr</th>\n",
       "    </tr>\n",
       "  </thead>\n",
       "  <tbody>\n",
       "    <tr>\n",
       "      <th>0</th>\n",
       "      <td>agreement between the european union and the e...</td>\n",
       "      <td>entre l ’ union européenne et la communauté eu...</td>\n",
       "    </tr>\n",
       "    <tr>\n",
       "      <th>1</th>\n",
       "      <td>preamble</td>\n",
       "      <td>préambule</td>\n",
       "    </tr>\n",
       "    <tr>\n",
       "      <th>2</th>\n",
       "      <td>the european union and the european atomic ene...</td>\n",
       "      <td>l ’ union européenne et la communauté européen...</td>\n",
       "    </tr>\n",
       "    <tr>\n",
       "      <th>3</th>\n",
       "      <td>the united kingdom of great britain and northe...</td>\n",
       "      <td>le royaume-uni de grande-bretagne et d ’ irlan...</td>\n",
       "    </tr>\n",
       "    <tr>\n",
       "      <th>4</th>\n",
       "      <td>l _ 2021149en.01221201.rtf</td>\n",
       "      <td>l _ 2021149fr.01221201.rtf</td>\n",
       "    </tr>\n",
       "    <tr>\n",
       "      <th>...</th>\n",
       "      <td>...</td>\n",
       "      <td>...</td>\n",
       "    </tr>\n",
       "    <tr>\n",
       "      <th>393306</th>\n",
       "      <td>union declaration on chagos archipelago / brit...</td>\n",
       "      <td>déclaration de l ’ union sur l ’ archipel des ...</td>\n",
       "    </tr>\n",
       "    <tr>\n",
       "      <th>393307</th>\n",
       "      <td>the european union declares that the reference...</td>\n",
       "      <td>l ’ union européenne déclare que la référence ...</td>\n",
       "    </tr>\n",
       "    <tr>\n",
       "      <th>393308</th>\n",
       "      <td>oj l 149 , 30.4.2021 , p . 10 .</td>\n",
       "      <td>jo l 149 du 30.4.2021 , p . 10 .</td>\n",
       "    </tr>\n",
       "    <tr>\n",
       "      <th>393309</th>\n",
       "      <td>decision of the eea joint committee no 245 / 2...</td>\n",
       "      <td>décision du comité mixte de l ’ eee no 245 / 2...</td>\n",
       "    </tr>\n",
       "    <tr>\n",
       "      <th>393310</th>\n",
       "      <td>has been withdrawn and therefore left blank</td>\n",
       "      <td>la décision a été retirée et est donc laissée ...</td>\n",
       "    </tr>\n",
       "  </tbody>\n",
       "</table>\n",
       "<p>393311 rows × 2 columns</p>\n",
       "</div>"
      ],
      "text/plain": [
       "                                                       en  \\\n",
       "0       agreement between the european union and the e...   \n",
       "1                                                preamble   \n",
       "2       the european union and the european atomic ene...   \n",
       "3       the united kingdom of great britain and northe...   \n",
       "4                              l _ 2021149en.01221201.rtf   \n",
       "...                                                   ...   \n",
       "393306  union declaration on chagos archipelago / brit...   \n",
       "393307  the european union declares that the reference...   \n",
       "393308                    oj l 149 , 30.4.2021 , p . 10 .   \n",
       "393309  decision of the eea joint committee no 245 / 2...   \n",
       "393310        has been withdrawn and therefore left blank   \n",
       "\n",
       "                                                       fr  \n",
       "0       entre l ’ union européenne et la communauté eu...  \n",
       "1                                               préambule  \n",
       "2       l ’ union européenne et la communauté européen...  \n",
       "3       le royaume-uni de grande-bretagne et d ’ irlan...  \n",
       "4                              l _ 2021149fr.01221201.rtf  \n",
       "...                                                   ...  \n",
       "393306  déclaration de l ’ union sur l ’ archipel des ...  \n",
       "393307  l ’ union européenne déclare que la référence ...  \n",
       "393308                   jo l 149 du 30.4.2021 , p . 10 .  \n",
       "393309  décision du comité mixte de l ’ eee no 245 / 2...  \n",
       "393310  la décision a été retirée et est donc laissée ...  \n",
       "\n",
       "[393311 rows x 2 columns]"
      ]
     },
     "execution_count": 85,
     "metadata": {},
     "output_type": "execute_result"
    }
   ],
   "source": [
    "dataset"
   ]
  },
  {
   "cell_type": "code",
   "execution_count": 86,
   "id": "7326724b-3910-4379-845a-9f4ba359b553",
   "metadata": {},
   "outputs": [],
   "source": [
    "from sklearn.model_selection import train_test_split"
   ]
  },
  {
   "cell_type": "code",
   "execution_count": 88,
   "id": "ad892455-f29a-437d-abab-8e21b04bd44e",
   "metadata": {},
   "outputs": [],
   "source": [
    "train, holdout = train_test_split(\n",
    "    dataset, test_size=0.3, random_state=42)"
   ]
  },
  {
   "cell_type": "code",
   "execution_count": 91,
   "id": "26958079-f462-49c6-ba70-865d96cb729b",
   "metadata": {},
   "outputs": [
    {
     "name": "stdout",
     "output_type": "stream",
     "text": [
      "Training examples: 275317\n",
      "Holdout examples: 117994\n"
     ]
    }
   ],
   "source": [
    "print(f\"Training examples: {len(train)}\")\n",
    "print(f\"Holdout examples: {len(holdout)}\")"
   ]
  },
  {
   "cell_type": "code",
   "execution_count": 95,
   "id": "72fe8631-3a81-4b1d-839b-41038bb00615",
   "metadata": {},
   "outputs": [],
   "source": [
    "dev, test = train_test_split(\n",
    "    holdout, test_size=0.66, random_state=42)"
   ]
  },
  {
   "cell_type": "code",
   "execution_count": 96,
   "id": "3c9f524e-1e59-41cd-858f-fc80cebe2148",
   "metadata": {},
   "outputs": [
    {
     "name": "stdout",
     "output_type": "stream",
     "text": [
      "Training examples: 275317, portion: 0.6999982202379288\n",
      "Test examples: 77877, portion: 0.19800361545952186\n",
      "Dev examples: 40117, portion: 0.10199816430254938\n"
     ]
    }
   ],
   "source": [
    "print(f\"Training examples: {len(train)}, portion: {len(train)/len(dataset)}\")\n",
    "print(f\"Test examples: {len(test)}, portion: {len(test)/len(dataset)}\")\n",
    "print(f\"Dev examples: {len(dev)}, portion: {len(dev)/len(dataset)}\")"
   ]
  },
  {
   "cell_type": "code",
   "execution_count": null,
   "id": "2e4a9e77-868d-4757-a577-176ad7647ab9",
   "metadata": {},
   "outputs": [],
   "source": []
  }
 ],
 "metadata": {
  "kernelspec": {
   "display_name": "Python 3 (ipykernel)",
   "language": "python",
   "name": "python3"
  },
  "language_info": {
   "codemirror_mode": {
    "name": "ipython",
    "version": 3
   },
   "file_extension": ".py",
   "mimetype": "text/x-python",
   "name": "python",
   "nbconvert_exporter": "python",
   "pygments_lexer": "ipython3",
   "version": "3.9.18"
  }
 },
 "nbformat": 4,
 "nbformat_minor": 5
}
