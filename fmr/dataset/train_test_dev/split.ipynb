{
 "cells": [
  {
   "cell_type": "code",
   "execution_count": 13,
   "id": "79719c34-0dcf-4dfb-9c2e-da23dc275f9a",
   "metadata": {},
   "outputs": [],
   "source": [
    "with open(\"../tokenized_lowercased/en.omega.tm.detokenized\", \"r\") as fd:\n",
    "    source = [segment.strip('\\n') for segment in fd.readlines()]\n",
    "with open(\"../tokenized_lowercased/fr.omega.tm.detokenized\", \"r\") as fd:\n",
    "    target = [segment.strip('\\n') for segment in fd.readlines()]"
   ]
  },
  {
   "cell_type": "code",
   "execution_count": 14,
   "id": "f152e856-255c-40b1-89f1-c636b19b4105",
   "metadata": {},
   "outputs": [
    {
     "name": "stdout",
     "output_type": "stream",
     "text": [
      "['Agreement between the European Union and the European Atomic Energy Community, of the one part, and the United Kingdom of Great Britain and Northern Ireland, of the other part', 'PREAMBLE', 'THE EUROPEAN UNION AND THE EUROPEAN ATOMIC ENERGY COMMUNITY', 'THE UNITED KINGDOM OF GREAT BRITAIN AND NORTHERN IRELAND,', 'L_2021149EN.01221201.rtf']\n",
      "['Entre l’union européenne et la Communauté Européenne de l’énergie atomique, d’une part, et le Royaume-uni de Grande-Bretagne et d’Irlande du Nord, d’autre part', 'PRÉAMBULE', 'L’UNION EUROPÉENNE ET LA COMMUNAUTÉ EUROPÉENNE DE L’ÉNERGIE ATOMIQUE', 'LE ROYAUME-UNI DE GRANDE-BRETAGNE ET D’IRLANDE DU NORD,', 'L_2021149FR.01221201.rtf']\n"
     ]
    }
   ],
   "source": [
    "print(source[:5])\n",
    "print(target[:5])"
   ]
  },
  {
   "cell_type": "code",
   "execution_count": 15,
   "id": "71bee591-564e-4edf-8089-83f1775116fa",
   "metadata": {},
   "outputs": [],
   "source": [
    "import pandas as pd\n",
    "\n",
    "pairs = {\"en\":source, \"fr\":target}\n",
    "dataset = pd.DataFrame(pairs)"
   ]
  },
  {
   "cell_type": "code",
   "execution_count": 16,
   "id": "10fb13f8-8c7e-4cd3-b086-cd266b79856b",
   "metadata": {},
   "outputs": [
    {
     "data": {
      "text/html": [
       "<div>\n",
       "<style scoped>\n",
       "    .dataframe tbody tr th:only-of-type {\n",
       "        vertical-align: middle;\n",
       "    }\n",
       "\n",
       "    .dataframe tbody tr th {\n",
       "        vertical-align: top;\n",
       "    }\n",
       "\n",
       "    .dataframe thead th {\n",
       "        text-align: right;\n",
       "    }\n",
       "</style>\n",
       "<table border=\"1\" class=\"dataframe\">\n",
       "  <thead>\n",
       "    <tr style=\"text-align: right;\">\n",
       "      <th></th>\n",
       "      <th>en</th>\n",
       "      <th>fr</th>\n",
       "    </tr>\n",
       "  </thead>\n",
       "  <tbody>\n",
       "    <tr>\n",
       "      <th>0</th>\n",
       "      <td>Agreement between the European Union and the E...</td>\n",
       "      <td>Entre l’union européenne et la Communauté Euro...</td>\n",
       "    </tr>\n",
       "    <tr>\n",
       "      <th>1</th>\n",
       "      <td>PREAMBLE</td>\n",
       "      <td>PRÉAMBULE</td>\n",
       "    </tr>\n",
       "    <tr>\n",
       "      <th>2</th>\n",
       "      <td>THE EUROPEAN UNION AND THE EUROPEAN ATOMIC ENE...</td>\n",
       "      <td>L’UNION EUROPÉENNE ET LA COMMUNAUTÉ EUROPÉENNE...</td>\n",
       "    </tr>\n",
       "    <tr>\n",
       "      <th>3</th>\n",
       "      <td>THE UNITED KINGDOM OF GREAT BRITAIN AND NORTHE...</td>\n",
       "      <td>LE ROYAUME-UNI DE GRANDE-BRETAGNE ET D’IRLANDE...</td>\n",
       "    </tr>\n",
       "    <tr>\n",
       "      <th>4</th>\n",
       "      <td>L_2021149EN.01221201.rtf</td>\n",
       "      <td>L_2021149FR.01221201.rtf</td>\n",
       "    </tr>\n",
       "    <tr>\n",
       "      <th>...</th>\n",
       "      <td>...</td>\n",
       "      <td>...</td>\n",
       "    </tr>\n",
       "    <tr>\n",
       "      <th>393306</th>\n",
       "      <td>Union declaration on Chagos Archipelago/Britis...</td>\n",
       "      <td>Déclaration de l’Union sur l’archipel des Chag...</td>\n",
       "    </tr>\n",
       "    <tr>\n",
       "      <th>393307</th>\n",
       "      <td>The European Union declares that the reference...</td>\n",
       "      <td>L’Union européenne déclare que la référence fa...</td>\n",
       "    </tr>\n",
       "    <tr>\n",
       "      <th>393308</th>\n",
       "      <td>OJ L 149, 30.4.2021, p. 10.</td>\n",
       "      <td>JO L 149 du 30.4.2021, p. 10.</td>\n",
       "    </tr>\n",
       "    <tr>\n",
       "      <th>393309</th>\n",
       "      <td>Decision of the EEA Joint Committee No 245/201...</td>\n",
       "      <td>Décision du Comité mixte de l’EEE no 245/2018 ...</td>\n",
       "    </tr>\n",
       "    <tr>\n",
       "      <th>393310</th>\n",
       "      <td>has been withdrawn and therefore left blank</td>\n",
       "      <td>La décision a été retirée et est donc laissée ...</td>\n",
       "    </tr>\n",
       "  </tbody>\n",
       "</table>\n",
       "<p>393311 rows × 2 columns</p>\n",
       "</div>"
      ],
      "text/plain": [
       "                                                       en  \\\n",
       "0       Agreement between the European Union and the E...   \n",
       "1                                                PREAMBLE   \n",
       "2       THE EUROPEAN UNION AND THE EUROPEAN ATOMIC ENE...   \n",
       "3       THE UNITED KINGDOM OF GREAT BRITAIN AND NORTHE...   \n",
       "4                                L_2021149EN.01221201.rtf   \n",
       "...                                                   ...   \n",
       "393306  Union declaration on Chagos Archipelago/Britis...   \n",
       "393307  The European Union declares that the reference...   \n",
       "393308                        OJ L 149, 30.4.2021, p. 10.   \n",
       "393309  Decision of the EEA Joint Committee No 245/201...   \n",
       "393310        has been withdrawn and therefore left blank   \n",
       "\n",
       "                                                       fr  \n",
       "0       Entre l’union européenne et la Communauté Euro...  \n",
       "1                                               PRÉAMBULE  \n",
       "2       L’UNION EUROPÉENNE ET LA COMMUNAUTÉ EUROPÉENNE...  \n",
       "3       LE ROYAUME-UNI DE GRANDE-BRETAGNE ET D’IRLANDE...  \n",
       "4                                L_2021149FR.01221201.rtf  \n",
       "...                                                   ...  \n",
       "393306  Déclaration de l’Union sur l’archipel des Chag...  \n",
       "393307  L’Union européenne déclare que la référence fa...  \n",
       "393308                      JO L 149 du 30.4.2021, p. 10.  \n",
       "393309  Décision du Comité mixte de l’EEE no 245/2018 ...  \n",
       "393310  La décision a été retirée et est donc laissée ...  \n",
       "\n",
       "[393311 rows x 2 columns]"
      ]
     },
     "execution_count": 16,
     "metadata": {},
     "output_type": "execute_result"
    }
   ],
   "source": [
    "dataset"
   ]
  },
  {
   "cell_type": "code",
   "execution_count": 17,
   "id": "7326724b-3910-4379-845a-9f4ba359b553",
   "metadata": {},
   "outputs": [],
   "source": [
    "from sklearn.model_selection import train_test_split"
   ]
  },
  {
   "cell_type": "code",
   "execution_count": 18,
   "id": "ad892455-f29a-437d-abab-8e21b04bd44e",
   "metadata": {},
   "outputs": [],
   "source": [
    "train, holdout = train_test_split(\n",
    "    dataset, test_size=0.3, random_state=42)"
   ]
  },
  {
   "cell_type": "code",
   "execution_count": 19,
   "id": "26958079-f462-49c6-ba70-865d96cb729b",
   "metadata": {},
   "outputs": [
    {
     "name": "stdout",
     "output_type": "stream",
     "text": [
      "Training examples: 275317\n",
      "Holdout examples: 117994\n"
     ]
    }
   ],
   "source": [
    "print(f\"Training examples: {len(train)}\")\n",
    "print(f\"Holdout examples: {len(holdout)}\")"
   ]
  },
  {
   "cell_type": "code",
   "execution_count": 20,
   "id": "72fe8631-3a81-4b1d-839b-41038bb00615",
   "metadata": {},
   "outputs": [],
   "source": [
    "dev, test = train_test_split(\n",
    "    holdout, test_size=0.66, random_state=42)"
   ]
  },
  {
   "cell_type": "code",
   "execution_count": 21,
   "id": "3c9f524e-1e59-41cd-858f-fc80cebe2148",
   "metadata": {},
   "outputs": [
    {
     "name": "stdout",
     "output_type": "stream",
     "text": [
      "Total dataset size: 393311\n",
      "\n",
      "Training examples: 275317, portion: 0.7\n",
      "Test examples: 77877, portion: 0.2\n",
      "Dev examples: 40117, portion: 0.1\n"
     ]
    }
   ],
   "source": [
    "print(f\"Total dataset size: {len(dataset)}\")\n",
    "print()\n",
    "print(f\"Training examples: {len(train)}, portion: {round(len(train)/len(dataset), 2)}\")\n",
    "print(f\"Test examples: {len(test)}, portion: {round(len(test)/len(dataset), 2)}\")\n",
    "print(f\"Dev examples: {len(dev)}, portion: {round(len(dev)/len(dataset), 2)}\")"
   ]
  },
  {
   "cell_type": "code",
   "execution_count": 22,
   "id": "2e4a9e77-868d-4757-a577-176ad7647ab9",
   "metadata": {},
   "outputs": [],
   "source": [
    "train_df = pd.DataFrame(data=train)\n",
    "train_df.to_csv('train.csv', sep = '\\t', index = False)\n",
    "\n",
    "test_df = pd.DataFrame(data=test)\n",
    "test_df.to_csv('test.csv', sep = '\\t', index=False)\n",
    "\n",
    "dev_df = pd.DataFrame(data=dev)\n",
    "dev_df.to_csv('dev.csv', sep = '\\t', index=False)"
   ]
  },
  {
   "cell_type": "code",
   "execution_count": 1,
   "id": "f2abd896-6d5c-42e1-b248-0413e02b020b",
   "metadata": {},
   "outputs": [
    {
     "name": "stdout",
     "output_type": "stream",
     "text": [
      "/work/nlp/yue.r/fuzzy_match_repair/fmr/dataset/train_test_dev\n"
     ]
    }
   ],
   "source": [
    "!pwd"
   ]
  },
  {
   "cell_type": "code",
   "execution_count": null,
   "id": "ffe660b7-87ad-415a-8f5b-deb96046c150",
   "metadata": {},
   "outputs": [],
   "source": []
  }
 ],
 "metadata": {
  "kernelspec": {
   "display_name": "Python 3 (ipykernel)",
   "language": "python",
   "name": "python3"
  },
  "language_info": {
   "codemirror_mode": {
    "name": "ipython",
    "version": 3
   },
   "file_extension": ".py",
   "mimetype": "text/x-python",
   "name": "python",
   "nbconvert_exporter": "python",
   "pygments_lexer": "ipython3",
   "version": "3.9.18"
  }
 },
 "nbformat": 4,
 "nbformat_minor": 5
}
